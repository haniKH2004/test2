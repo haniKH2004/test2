{
 "cells": [
  {
   "cell_type": "code",
   "execution_count": 2,
   "id": "f7480052",
   "metadata": {},
   "outputs": [
    {
     "name": "stdout",
     "output_type": "stream",
     "text": [
      "hello hani!this is my first function\n",
      "hello zouheir!this is my first function\n",
      "hello el ghali!this is my first function\n"
     ]
    }
   ],
   "source": [
    "def function_name(name):\n",
    "    print(\"hello\",name+\"!this is my first function\")\n",
    "for name in ['hani','zouheir','el ghali']:\n",
    "    function_name(name)"
   ]
  },
  {
   "cell_type": "code",
   "execution_count": 28,
   "id": "8cae19fd",
   "metadata": {},
   "outputs": [
    {
     "name": "stdout",
     "output_type": "stream",
     "text": [
      "hello hani!this is my first function false\n",
      "hello el ghali!this is my first function sesion\n",
      "hello zouheir!this is my first function try\n"
     ]
    }
   ],
   "source": [
    "def function_name(name,thing=\"activity\"):\n",
    "    print(\"hello \"+name+\"!this is my first function \"+thing)\n",
    "for name, ac in [('hani','false'),('el ghali','sesion'),('zouheir','try')]:\n",
    "    function_name(name,ac)\n"
   ]
  },
  {
   "cell_type": "code",
   "execution_count": 31,
   "id": "18aa2660",
   "metadata": {},
   "outputs": [
    {
     "name": "stdout",
     "output_type": "stream",
     "text": [
      "I am from moroco\n",
      "I am from tunisia\n",
      "I am from moroco\n"
     ]
    }
   ],
   "source": [
    "def my_function(country=\"moroco\"):\n",
    "    print(\"I am from \" +country)\n",
    "my_function(\"moroco\")\n",
    "\n",
    "my_function(\"tunisia\")\n",
    "\n",
    "my_function()"
   ]
  },
  {
   "cell_type": "code",
   "execution_count": 40,
   "id": "4a709a02",
   "metadata": {},
   "outputs": [
    {
     "ename": "SyntaxError",
     "evalue": "invalid syntax (4033474891.py, line 4)",
     "output_type": "error",
     "traceback": [
      "\u001b[1;36m  Input \u001b[1;32mIn [40]\u001b[1;36m\u001b[0m\n\u001b[1;33m    els:\u001b[0m\n\u001b[1;37m        ^\u001b[0m\n\u001b[1;31mSyntaxError\u001b[0m\u001b[1;31m:\u001b[0m invalid syntax\n"
     ]
    }
   ],
   "source": [
    "def minimum(a,b):\n",
    "    if a<b:\n",
    "        return(a)\n",
    "    els:\n",
    "        return(b)\n",
    "min = minimum(10,2)#this is nit possible without return\n",
    "    "
   ]
  },
  {
   "cell_type": "code",
   "execution_count": 44,
   "id": "4b7ab338",
   "metadata": {},
   "outputs": [
    {
     "name": "stdout",
     "output_type": "stream",
     "text": [
      "26 prises on ete coupees\n"
     ]
    }
   ],
   "source": [
    "def couper_prises(nb_prises, radin):\n",
    "    if radin:\n",
    "        return nb_prises\n",
    "    else:\n",
    "        return 0\n",
    "prises = 26\n",
    "prises_coupees = couper_prises(prises, True)\n",
    "print(prises_coupees, \"prises on ete coupees\")"
   ]
  },
  {
   "cell_type": "code",
   "execution_count": 52,
   "id": "ca8b5df9",
   "metadata": {},
   "outputs": [
    {
     "data": {
      "text/plain": [
       "[True,\n",
       " True,\n",
       " True,\n",
       " True,\n",
       " True,\n",
       " True,\n",
       " True,\n",
       " True,\n",
       " True,\n",
       " True,\n",
       " True,\n",
       " True,\n",
       " True,\n",
       " True,\n",
       " True,\n",
       " True,\n",
       " True,\n",
       " True,\n",
       " False,\n",
       " True,\n",
       " True,\n",
       " True,\n",
       " False,\n",
       " True,\n",
       " True,\n",
       " True]"
      ]
     },
     "execution_count": 52,
     "metadata": {},
     "output_type": "execute_result"
    }
   ],
   "source": [
    "import random\n",
    "list_prises = [random.random() < 0.9 for _ in range (26)]\n",
    "list_prises"
   ]
  },
  {
   "cell_type": "code",
   "execution_count": 55,
   "id": "1bf65e9e",
   "metadata": {},
   "outputs": [
    {
     "data": {
      "text/plain": [
       "0.26113456742693664"
      ]
     },
     "execution_count": 55,
     "metadata": {},
     "output_type": "execute_result"
    }
   ],
   "source": [
    "random.random()"
   ]
  },
  {
   "cell_type": "code",
   "execution_count": 64,
   "id": "96003f01",
   "metadata": {},
   "outputs": [
    {
     "name": "stdout",
     "output_type": "stream",
     "text": [
      "Avant coupure: 21\n",
      "Apres coupure: 15\n"
     ]
    }
   ],
   "source": [
    "def coupees_prises(prises, radin_percent):\n",
    "    prises_coupees = []\n",
    "    for p in prises :\n",
    "        if p == False:\n",
    "            prises_coupees.append(p)\n",
    "        else:\n",
    "            if random.random() < radin_percent:\n",
    "                prises_coupees.append(False)\n",
    "            else:\n",
    "                prises_coupees.append(True)\n",
    "\n",
    "    return prises_coupees\n",
    "\n",
    "list_prises = [random.random() < 0.9 for _ in range(26)]\n",
    "list_prises_coupees = coupees_prises (list_prises,0.2)\n",
    "\n",
    "\n",
    "\n",
    "print(\"Avant coupure:\", sum(list_prises))\n",
    "print(\"Apres coupure:\", sum(list_prises_coupees))"
   ]
  },
  {
   "cell_type": "code",
   "execution_count": 74,
   "id": "8ee77531",
   "metadata": {},
   "outputs": [
    {
     "name": "stdout",
     "output_type": "stream",
     "text": [
      "Avant coupure: 25\n",
      "Apres coupure: 5\n"
     ]
    }
   ],
   "source": [
    "def coupees_prises(prises, radin_percent=None):\n",
    "    prises_coupees = []\n",
    "    if radin_percent is None:\n",
    "        radin_percent = random.random()\n",
    "    \n",
    "    \n",
    "    for p in prises :\n",
    "        if p == False:\n",
    "            prises_coupees.append(p)\n",
    "        else:\n",
    "            if random.random() < radin_percent:\n",
    "                prises_coupees.append(False)\n",
    "            else:\n",
    "                prises_coupees.append(True)\n",
    "\n",
    "    return prises_coupees\n",
    "\n",
    "list_prises = [random.random() < 0.9 for _ in range(26)]\n",
    "list_prises_coupees = coupees_prises (list_prises)\n",
    "\n",
    "\n",
    "\n",
    "print(\"Avant coupure:\", sum(list_prises))\n",
    "print(\"Apres coupure:\", sum(list_prises_coupees))"
   ]
  },
  {
   "cell_type": "code",
   "execution_count": 79,
   "id": "4ecc1ab1",
   "metadata": {},
   "outputs": [
    {
     "name": "stdout",
     "output_type": "stream",
     "text": [
      "1234\n"
     ]
    }
   ],
   "source": [
    "year = lambda ch : ch[:4]\n",
    "ch = \"123456325\"\n",
    "print(year(ch))"
   ]
  },
  {
   "cell_type": "code",
   "execution_count": 80,
   "id": "093e53e1",
   "metadata": {},
   "outputs": [
    {
     "data": {
      "text/plain": [
       "'HELLO WORLD'"
      ]
     },
     "execution_count": 80,
     "metadata": {},
     "output_type": "execute_result"
    }
   ],
   "source": [
    "majuscule = lambda x: x.upper()\n",
    "majuscule('hello world')"
   ]
  },
  {
   "cell_type": "code",
   "execution_count": 82,
   "id": "bf434775",
   "metadata": {},
   "outputs": [
    {
     "data": {
      "text/plain": [
       "['__add__',\n",
       " '__class__',\n",
       " '__contains__',\n",
       " '__delattr__',\n",
       " '__dir__',\n",
       " '__doc__',\n",
       " '__eq__',\n",
       " '__format__',\n",
       " '__ge__',\n",
       " '__getattribute__',\n",
       " '__getitem__',\n",
       " '__getnewargs__',\n",
       " '__gt__',\n",
       " '__hash__',\n",
       " '__init__',\n",
       " '__init_subclass__',\n",
       " '__iter__',\n",
       " '__le__',\n",
       " '__len__',\n",
       " '__lt__',\n",
       " '__mod__',\n",
       " '__mul__',\n",
       " '__ne__',\n",
       " '__new__',\n",
       " '__reduce__',\n",
       " '__reduce_ex__',\n",
       " '__repr__',\n",
       " '__rmod__',\n",
       " '__rmul__',\n",
       " '__setattr__',\n",
       " '__sizeof__',\n",
       " '__str__',\n",
       " '__subclasshook__',\n",
       " 'capitalize',\n",
       " 'casefold',\n",
       " 'center',\n",
       " 'count',\n",
       " 'encode',\n",
       " 'endswith',\n",
       " 'expandtabs',\n",
       " 'find',\n",
       " 'format',\n",
       " 'format_map',\n",
       " 'index',\n",
       " 'isalnum',\n",
       " 'isalpha',\n",
       " 'isascii',\n",
       " 'isdecimal',\n",
       " 'isdigit',\n",
       " 'isidentifier',\n",
       " 'islower',\n",
       " 'isnumeric',\n",
       " 'isprintable',\n",
       " 'isspace',\n",
       " 'istitle',\n",
       " 'isupper',\n",
       " 'join',\n",
       " 'ljust',\n",
       " 'lower',\n",
       " 'lstrip',\n",
       " 'maketrans',\n",
       " 'partition',\n",
       " 'removeprefix',\n",
       " 'removesuffix',\n",
       " 'replace',\n",
       " 'rfind',\n",
       " 'rindex',\n",
       " 'rjust',\n",
       " 'rpartition',\n",
       " 'rsplit',\n",
       " 'rstrip',\n",
       " 'split',\n",
       " 'splitlines',\n",
       " 'startswith',\n",
       " 'strip',\n",
       " 'swapcase',\n",
       " 'title',\n",
       " 'translate',\n",
       " 'upper',\n",
       " 'zfill']"
      ]
     },
     "execution_count": 82,
     "metadata": {},
     "output_type": "execute_result"
    }
   ],
   "source": [
    "dir(\"hello\")"
   ]
  },
  {
   "cell_type": "code",
   "execution_count": 86,
   "id": "2e02ea15",
   "metadata": {},
   "outputs": [
    {
     "data": {
      "text/plain": [
       "'wElCoMe tO GoMyC0De'"
      ]
     },
     "execution_count": 86,
     "metadata": {},
     "output_type": "execute_result"
    }
   ],
   "source": [
    "snake_case = lambda x: \"\" .join([c.upper() if i%2 == 1 else c . lower() for i , c in enumerate(x)])\n",
    "snake_case('welcome to gomyc0de')"
   ]
  },
  {
   "cell_type": "code",
   "execution_count": 104,
   "id": "04065896",
   "metadata": {},
   "outputs": [
    {
     "name": "stdout",
     "output_type": "stream",
     "text": [
      "50\n",
      "\n"
     ]
    }
   ],
   "source": [
    "def max_of_three( x,y,z):\n",
    "    \n",
    "    if x >= y and x >= z:\n",
    "        print (x)\n",
    "    elif y >= z and y >= x :\n",
    "        print (y)\n",
    "    else :\n",
    "        print (z)\n",
    "        \n",
    "        \n",
    "max_of_three (50,50,3)  \n",
    "\n",
    "            \n",
    "            \n",
    "    \n",
    "print()"
   ]
  },
  {
   "cell_type": "code",
   "execution_count": 111,
   "id": "d001d0b1",
   "metadata": {},
   "outputs": [
    {
     "name": "stdout",
     "output_type": "stream",
     "text": [
      "50\n",
      "30\n"
     ]
    }
   ],
   "source": [
    "def calculation (x,y):\n",
    "    return (x+y , x-y)\n",
    "\n",
    "\n",
    "\n",
    "add , substr = calculation(40, 10)\n",
    "\n",
    "\n",
    "print (add)\n",
    "print (substr)"
   ]
  },
  {
   "cell_type": "code",
   "execution_count": 135,
   "id": "b2713218",
   "metadata": {},
   "outputs": [
    {
     "data": {
      "text/plain": [
       "37"
      ]
     },
     "execution_count": 135,
     "metadata": {},
     "output_type": "execute_result"
    }
   ],
   "source": [
    "L = [7,12,16,2]\n",
    "def somme_liste(L):\n",
    "    s=0\n",
    "    for e in L:\n",
    "        s += e\n",
    "    return s \n",
    "\n",
    "\n",
    "somme_liste(L)"
   ]
  },
  {
   "cell_type": "code",
   "execution_count": 133,
   "id": "41e77099",
   "metadata": {},
   "outputs": [
    {
     "data": {
      "text/plain": [
       "37"
      ]
     },
     "execution_count": 133,
     "metadata": {},
     "output_type": "execute_result"
    }
   ],
   "source": [
    "def produit_liste(L):\n",
    "    s=1\n",
    "    for e in L:\n",
    "        s *= e\n",
    "    return s \n",
    "\n",
    "\n",
    "somme_liste(L)"
   ]
  },
  {
   "cell_type": "code",
   "execution_count": 134,
   "id": "8afc2c52",
   "metadata": {},
   "outputs": [
    {
     "data": {
      "text/plain": [
       "(23, 24)"
      ]
     },
     "execution_count": 134,
     "metadata": {},
     "output_type": "execute_result"
    }
   ],
   "source": [
    "def question_3(l):\n",
    "    l_somme = [e for i , e in enumerate(l) if i%2 == 0]\n",
    "    l_produit = [e for i , e in enumerate(l) if i%2 == 1]\n",
    "    return (somme_liste(l_somme), produit_liste(l_produit))\n",
    "\n",
    "\n",
    "question_3(L)"
   ]
  },
  {
   "cell_type": "code",
   "execution_count": null,
   "id": "88ece468",
   "metadata": {},
   "outputs": [],
   "source": []
  }
 ],
 "metadata": {
  "kernelspec": {
   "display_name": "Python 3 (ipykernel)",
   "language": "python",
   "name": "python3"
  },
  "language_info": {
   "codemirror_mode": {
    "name": "ipython",
    "version": 3
   },
   "file_extension": ".py",
   "mimetype": "text/x-python",
   "name": "python",
   "nbconvert_exporter": "python",
   "pygments_lexer": "ipython3",
   "version": "3.9.12"
  }
 },
 "nbformat": 4,
 "nbformat_minor": 5
}
